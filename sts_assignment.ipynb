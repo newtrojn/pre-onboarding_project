{
 "cells": [
  {
   "cell_type": "code",
   "execution_count": 1,
   "id": "c6aaefb8-8a39-451a-b5f1-da2450c130d0",
   "metadata": {},
   "outputs": [],
   "source": [
    "import argparse\n",
    "import logging\n",
    "import math\n",
    "import os\n",
    "import random\n",
    "from datetime import datetime\n",
    "import numpy as np\n",
    "import torch\n",
    "from sentence_transformers import SentenceTransformer, LoggingHandler, models, losses\n",
    "from sentence_transformers.evaluation import EmbeddingSimilarityEvaluator\n",
    "from torch.utils.data import DataLoader\n",
    "import json\n",
    "from sentence_transformers.readers import InputExample"
   ]
  },
  {
   "cell_type": "code",
   "execution_count": 2,
   "id": "7c7b8622-55b8-42d9-a51a-3a7cae7701e3",
   "metadata": {},
   "outputs": [],
   "source": [
    "# Parse command line arguments\n",
    "parser = argparse.ArgumentParser()\n",
    "parser.add_argument(\"--model_name_or_path\", type=str, default = \"klue/roberta-base\")\n",
    "parser.add_argument(\"--max_seq_length\", type=int, default=128)\n",
    "parser.add_argument(\"--batch_size\", type=int, default=8)\n",
    "parser.add_argument(\"--num_epochs\", type=int, default=5)\n",
    "parser.add_argument(\"--output_dir\", type=str, default=\"output\")\n",
    "parser.add_argument(\"--output_prefix\", type=str, default=\"kor_sts_\")\n",
    "parser.add_argument(\"--seed\", type=int, default=777)\n",
    "args = parser.parse_args(\"\")"
   ]
  },
  {
   "cell_type": "code",
   "execution_count": 3,
   "id": "6e3d155b-226b-4e42-a0f8-6841748b3603",
   "metadata": {},
   "outputs": [],
   "source": [
    "# Fix random seed\n",
    "random.seed(args.seed)\n",
    "np.random.seed(args.seed)\n",
    "torch.manual_seed(args.seed)\n",
    "torch.cuda.manual_seed(args.seed)\n",
    "\n",
    "# Configure logger\n",
    "logging.basicConfig(\n",
    "    format='%(asctime)s - %(message)s', datefmt='%Y-%m-%d %H:%M:%S', level=logging.INFO, handlers=[LoggingHandler()]\n",
    ")\n",
    "\n",
    "# Read the dataset\n",
    "model_save_path = os.path.join(\n",
    "    args.output_dir,\n",
    "    args.output_prefix + args.model_name_or_path.replace(\"/\", \"-\") + '-' + datetime.now().strftime(\"%Y-%m-%d_%H-%M-%S\")\n",
    ")"
   ]
  },
  {
   "cell_type": "code",
   "execution_count": 4,
   "id": "5804f4b0-5d3c-42ce-b6e7-720a26499053",
   "metadata": {},
   "outputs": [
    {
     "name": "stderr",
     "output_type": "stream",
     "text": [
      "Some weights of the model checkpoint at klue/roberta-base were not used when initializing RobertaModel: ['lm_head.bias', 'lm_head.layer_norm.bias', 'lm_head.decoder.weight', 'lm_head.dense.bias', 'lm_head.dense.weight', 'lm_head.layer_norm.weight', 'lm_head.decoder.bias']\n",
      "- This IS expected if you are initializing RobertaModel from the checkpoint of a model trained on another task or with another architecture (e.g. initializing a BertForSequenceClassification model from a BertForPreTraining model).\n",
      "- This IS NOT expected if you are initializing RobertaModel from the checkpoint of a model that you expect to be exactly identical (initializing a BertForSequenceClassification model from a BertForSequenceClassification model).\n",
      "Some weights of RobertaModel were not initialized from the model checkpoint at klue/roberta-base and are newly initialized: ['roberta.pooler.dense.weight', 'roberta.pooler.dense.bias']\n",
      "You should probably TRAIN this model on a down-stream task to be able to use it for predictions and inference.\n"
     ]
    }
   ],
   "source": [
    "# Define SentenceTransformer model\n",
    "word_embedding_model = models.Transformer(args.model_name_or_path, max_seq_length=args.max_seq_length)\n",
    "pooling_model = models.Pooling(word_embedding_model.get_word_embedding_dimension(),\n",
    "                               pooling_mode_mean_tokens=True,\n",
    "                               pooling_mode_cls_token=False,\n",
    "                               pooling_mode_max_tokens=False)\n",
    "model = SentenceTransformer(modules=[word_embedding_model, pooling_model], device = 'cuda')"
   ]
  },
  {
   "cell_type": "code",
   "execution_count": 5,
   "id": "07a2fad5-aef6-4b71-99d5-89e3f7f5f30b",
   "metadata": {},
   "outputs": [],
   "source": [
    "def load_kor_sts_samples(filename):\n",
    "    samples = []\n",
    "    with open(filename,'r') as f:\n",
    "        json_data = json.load(f)\n",
    "    for row in json_data:\n",
    "        score = float(row['labels']['label']) / 5.0  # Normalize score to range 0 ... 1\n",
    "        samples.append(InputExample(texts=[row['sentence1'], row['sentence2']], label=score))\n",
    "    return samples"
   ]
  },
  {
   "cell_type": "code",
   "execution_count": 6,
   "id": "0945989e-8f2f-4d7b-bde0-5efdfe8ed2b6",
   "metadata": {},
   "outputs": [
    {
     "name": "stdout",
     "output_type": "stream",
     "text": [
      "2022-03-14 12:28:27 - Read KorSTS train/dev dataset\n"
     ]
    }
   ],
   "source": [
    "# Read the dataset\n",
    "logging.info(\"Read KorSTS train/dev dataset\")\n",
    "\n",
    "train_file = './dataset/klue-sts-v1.1_train.json'\n",
    "train_samples = load_kor_sts_samples(train_file)\n",
    "random.shuffle(train_samples)\n",
    "\n",
    "n_train = int(0.9 * len(train_samples))\n",
    "valid_samples = train_samples[n_train:]\n",
    "train_samples = train_samples[:n_train]\n",
    "\n",
    "train_dataloader = DataLoader(train_samples, shuffle=True, batch_size=args.batch_size)\n",
    "valid_evaluator = EmbeddingSimilarityEvaluator.from_input_examples(valid_samples, batch_size=args.batch_size,\n",
    "                                                                 name='sts-valid')"
   ]
  },
  {
   "cell_type": "code",
   "execution_count": 7,
   "id": "6d6c4ded-1b7f-43f2-97fc-2f27459dbdd3",
   "metadata": {},
   "outputs": [
    {
     "name": "stdout",
     "output_type": "stream",
     "text": [
      "2022-03-14 12:28:29 - Warmup-steps: 657\n"
     ]
    }
   ],
   "source": [
    "train_loss = losses.CosineSimilarityLoss(model=model)\n",
    "\n",
    "# Configure the training.\n",
    "warmup_steps = math.ceil(len(train_dataloader) * args.num_epochs * 0.1)  # 10% of train data for warm-up\n",
    "logging.info(\"Warmup-steps: {}\".format(warmup_steps))"
   ]
  },
  {
   "cell_type": "code",
   "execution_count": 8,
   "id": "d0c80383-89d5-44f6-bfbd-f0d40339d8ea",
   "metadata": {
    "tags": []
   },
   "outputs": [
    {
     "name": "stderr",
     "output_type": "stream",
     "text": [
      "/home/skymj1128/.conda/envs/wanted/lib/python3.8/site-packages/transformers/optimization.py:306: FutureWarning: This implementation of AdamW is deprecated and will be removed in a future version. Use thePyTorch implementation torch.optim.AdamW instead, or set `no_deprecation_warning=True` to disable this warning\n",
      "  warnings.warn(\n"
     ]
    },
    {
     "name": "stdout",
     "output_type": "stream",
     "text": [
      "2022-03-14 12:29:59 - EmbeddingSimilarityEvaluator: Evaluating the model on sts-valid dataset in epoch 0 after 1000 steps:\n",
      "2022-03-14 12:30:02 - Cosine-Similarity :\tPearson: 0.9514\tSpearman: 0.9065\n",
      "2022-03-14 12:30:02 - Manhattan-Distance:\tPearson: 0.9463\tSpearman: 0.9079\n",
      "2022-03-14 12:30:02 - Euclidean-Distance:\tPearson: 0.9463\tSpearman: 0.9079\n",
      "2022-03-14 12:30:02 - Dot-Product-Similarity:\tPearson: 0.9391\tSpearman: 0.8841\n",
      "2022-03-14 12:30:02 - Save model to output/kor_sts_klue-roberta-base-2022-03-14_12-28-15\n",
      "2022-03-14 12:30:29 - EmbeddingSimilarityEvaluator: Evaluating the model on sts-valid dataset after epoch 0:\n",
      "2022-03-14 12:30:32 - Cosine-Similarity :\tPearson: 0.9534\tSpearman: 0.9108\n",
      "2022-03-14 12:30:32 - Manhattan-Distance:\tPearson: 0.9479\tSpearman: 0.9111\n",
      "2022-03-14 12:30:32 - Euclidean-Distance:\tPearson: 0.9484\tSpearman: 0.9115\n",
      "2022-03-14 12:30:32 - Dot-Product-Similarity:\tPearson: 0.9366\tSpearman: 0.8885\n",
      "2022-03-14 12:30:32 - Save model to output/kor_sts_klue-roberta-base-2022-03-14_12-28-15\n",
      "2022-03-14 12:32:02 - EmbeddingSimilarityEvaluator: Evaluating the model on sts-valid dataset in epoch 1 after 1000 steps:\n",
      "2022-03-14 12:32:06 - Cosine-Similarity :\tPearson: 0.9576\tSpearman: 0.9191\n",
      "2022-03-14 12:32:06 - Manhattan-Distance:\tPearson: 0.9510\tSpearman: 0.9161\n",
      "2022-03-14 12:32:06 - Euclidean-Distance:\tPearson: 0.9511\tSpearman: 0.9158\n",
      "2022-03-14 12:32:06 - Dot-Product-Similarity:\tPearson: 0.9445\tSpearman: 0.9001\n",
      "2022-03-14 12:32:06 - Save model to output/kor_sts_klue-roberta-base-2022-03-14_12-28-15\n",
      "2022-03-14 12:32:38 - EmbeddingSimilarityEvaluator: Evaluating the model on sts-valid dataset after epoch 1:\n",
      "2022-03-14 12:32:41 - Cosine-Similarity :\tPearson: 0.9585\tSpearman: 0.9198\n",
      "2022-03-14 12:32:41 - Manhattan-Distance:\tPearson: 0.9529\tSpearman: 0.9186\n",
      "2022-03-14 12:32:41 - Euclidean-Distance:\tPearson: 0.9533\tSpearman: 0.9185\n",
      "2022-03-14 12:32:41 - Dot-Product-Similarity:\tPearson: 0.9470\tSpearman: 0.9010\n",
      "2022-03-14 12:32:41 - Save model to output/kor_sts_klue-roberta-base-2022-03-14_12-28-15\n",
      "2022-03-14 12:34:07 - EmbeddingSimilarityEvaluator: Evaluating the model on sts-valid dataset in epoch 2 after 1000 steps:\n",
      "2022-03-14 12:34:10 - Cosine-Similarity :\tPearson: 0.9588\tSpearman: 0.9192\n",
      "2022-03-14 12:34:10 - Manhattan-Distance:\tPearson: 0.9527\tSpearman: 0.9188\n",
      "2022-03-14 12:34:10 - Euclidean-Distance:\tPearson: 0.9530\tSpearman: 0.9191\n",
      "2022-03-14 12:34:10 - Dot-Product-Similarity:\tPearson: 0.9452\tSpearman: 0.8983\n",
      "2022-03-14 12:34:38 - EmbeddingSimilarityEvaluator: Evaluating the model on sts-valid dataset after epoch 2:\n",
      "2022-03-14 12:34:41 - Cosine-Similarity :\tPearson: 0.9579\tSpearman: 0.9170\n",
      "2022-03-14 12:34:41 - Manhattan-Distance:\tPearson: 0.9524\tSpearman: 0.9162\n",
      "2022-03-14 12:34:41 - Euclidean-Distance:\tPearson: 0.9526\tSpearman: 0.9164\n",
      "2022-03-14 12:34:41 - Dot-Product-Similarity:\tPearson: 0.9456\tSpearman: 0.8983\n",
      "2022-03-14 12:36:08 - EmbeddingSimilarityEvaluator: Evaluating the model on sts-valid dataset in epoch 3 after 1000 steps:\n",
      "2022-03-14 12:36:11 - Cosine-Similarity :\tPearson: 0.9595\tSpearman: 0.9199\n",
      "2022-03-14 12:36:11 - Manhattan-Distance:\tPearson: 0.9529\tSpearman: 0.9186\n",
      "2022-03-14 12:36:11 - Euclidean-Distance:\tPearson: 0.9531\tSpearman: 0.9186\n",
      "2022-03-14 12:36:11 - Dot-Product-Similarity:\tPearson: 0.9478\tSpearman: 0.9025\n",
      "2022-03-14 12:36:11 - Save model to output/kor_sts_klue-roberta-base-2022-03-14_12-28-15\n",
      "2022-03-14 12:36:42 - EmbeddingSimilarityEvaluator: Evaluating the model on sts-valid dataset after epoch 3:\n",
      "2022-03-14 12:36:45 - Cosine-Similarity :\tPearson: 0.9592\tSpearman: 0.9213\n",
      "2022-03-14 12:36:45 - Manhattan-Distance:\tPearson: 0.9522\tSpearman: 0.9186\n",
      "2022-03-14 12:36:45 - Euclidean-Distance:\tPearson: 0.9524\tSpearman: 0.9188\n",
      "2022-03-14 12:36:45 - Dot-Product-Similarity:\tPearson: 0.9452\tSpearman: 0.9026\n",
      "2022-03-14 12:36:45 - Save model to output/kor_sts_klue-roberta-base-2022-03-14_12-28-15\n",
      "2022-03-14 12:38:17 - EmbeddingSimilarityEvaluator: Evaluating the model on sts-valid dataset in epoch 4 after 1000 steps:\n",
      "2022-03-14 12:38:20 - Cosine-Similarity :\tPearson: 0.9609\tSpearman: 0.9220\n",
      "2022-03-14 12:38:20 - Manhattan-Distance:\tPearson: 0.9542\tSpearman: 0.9200\n",
      "2022-03-14 12:38:20 - Euclidean-Distance:\tPearson: 0.9542\tSpearman: 0.9201\n",
      "2022-03-14 12:38:20 - Dot-Product-Similarity:\tPearson: 0.9483\tSpearman: 0.9039\n",
      "2022-03-14 12:38:20 - Save model to output/kor_sts_klue-roberta-base-2022-03-14_12-28-15\n",
      "2022-03-14 12:38:51 - EmbeddingSimilarityEvaluator: Evaluating the model on sts-valid dataset after epoch 4:\n",
      "2022-03-14 12:38:54 - Cosine-Similarity :\tPearson: 0.9610\tSpearman: 0.9221\n",
      "2022-03-14 12:38:54 - Manhattan-Distance:\tPearson: 0.9541\tSpearman: 0.9201\n",
      "2022-03-14 12:38:54 - Euclidean-Distance:\tPearson: 0.9541\tSpearman: 0.9201\n",
      "2022-03-14 12:38:54 - Dot-Product-Similarity:\tPearson: 0.9484\tSpearman: 0.9041\n",
      "2022-03-14 12:38:54 - Save model to output/kor_sts_klue-roberta-base-2022-03-14_12-28-15\n"
     ]
    }
   ],
   "source": [
    "# Train the model\n",
    "model.fit(train_objectives=[(train_dataloader, train_loss)],\n",
    "          evaluator=valid_evaluator,\n",
    "          epochs=args.num_epochs,\n",
    "          show_progress_bar = False,\n",
    "          evaluation_steps=1000,\n",
    "          warmup_steps=warmup_steps,\n",
    "          output_path=model_save_path)"
   ]
  },
  {
   "cell_type": "code",
   "execution_count": 9,
   "id": "db292db6-252f-4de3-9b34-a7c121a3eef5",
   "metadata": {},
   "outputs": [
    {
     "name": "stdout",
     "output_type": "stream",
     "text": [
      "2022-03-14 12:39:18 - Load pretrained SentenceTransformer: output/kor_sts_klue-roberta-base-2022-03-14_12-28-15\n",
      "2022-03-14 12:39:19 - Use pytorch device: cuda\n",
      "2022-03-14 12:39:19 - Read KorSTS benchmark test dataset\n",
      "2022-03-14 12:39:19 - EmbeddingSimilarityEvaluator: Evaluating the model on sts-test dataset:\n",
      "2022-03-14 12:39:20 - Cosine-Similarity :\tPearson: 0.8897\tSpearman: 0.8898\n",
      "2022-03-14 12:39:20 - Manhattan-Distance:\tPearson: 0.8858\tSpearman: 0.8850\n",
      "2022-03-14 12:39:20 - Euclidean-Distance:\tPearson: 0.8864\tSpearman: 0.8858\n",
      "2022-03-14 12:39:20 - Dot-Product-Similarity:\tPearson: 0.8707\tSpearman: 0.8702\n"
     ]
    },
    {
     "data": {
      "text/plain": [
       "0.8898365349320421"
      ]
     },
     "execution_count": 9,
     "metadata": {},
     "output_type": "execute_result"
    }
   ],
   "source": [
    "# Load the stored model and evaluate its performance on STS benchmark dataset\n",
    "model = SentenceTransformer(model_save_path)\n",
    "logging.info(\"Read KorSTS benchmark test dataset\")\n",
    "test_file = './dataset/klue-sts-v1.1_dev.json'\n",
    "test_samples = load_kor_sts_samples(test_file)\n",
    "test_evaluator = EmbeddingSimilarityEvaluator.from_input_examples(test_samples, name='sts-test')\n",
    "test_evaluator(model, output_path=model_save_path)"
   ]
  },
  {
   "cell_type": "code",
   "execution_count": null,
   "id": "885a63ce-1d90-4542-8ddd-661b3edbd8e4",
   "metadata": {},
   "outputs": [],
   "source": []
  },
  {
   "cell_type": "code",
   "execution_count": null,
   "id": "21bd0539-c54d-488d-a5c2-cb81db9787c3",
   "metadata": {},
   "outputs": [],
   "source": []
  }
 ],
 "metadata": {
  "kernelspec": {
   "display_name": "wanted",
   "language": "python",
   "name": "wanted"
  },
  "language_info": {
   "codemirror_mode": {
    "name": "ipython",
    "version": 3
   },
   "file_extension": ".py",
   "mimetype": "text/x-python",
   "name": "python",
   "nbconvert_exporter": "python",
   "pygments_lexer": "ipython3",
   "version": "3.8.12"
  }
 },
 "nbformat": 4,
 "nbformat_minor": 5
}
